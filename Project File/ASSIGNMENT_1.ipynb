{
  "nbformat": 4,
  "nbformat_minor": 0,
  "metadata": {
    "colab": {
      "provenance": []
    },
    "kernelspec": {
      "name": "python3",
      "display_name": "Python 3"
    },
    "language_info": {
      "name": "python"
    }
  },
  "cells": [
    {
      "cell_type": "code",
      "execution_count": null,
      "metadata": {
        "colab": {
          "base_uri": "https://localhost:8080/"
        },
        "id": "RBYR5Lf_m9HK",
        "outputId": "23fadf18-18ac-46d5-a45e-aa1d41265244"
      },
      "outputs": [
        {
          "output_type": "execute_result",
          "data": {
            "text/plain": [
              "[1, 2, 3, 5, 8, 10, 6, 8, 9, 4]"
            ]
          },
          "metadata": {},
          "execution_count": 2
        }
      ],
      "source": [
        "#Task 1--\n",
        "a=[1,2,3,5,8,10]\n",
        "b=[6,8,9,4]\n",
        "a+b"
      ]
    },
    {
      "cell_type": "code",
      "source": [
        "#Task 2--\n",
        "\n",
        "num= int(input(\"Enter your number: \"))\n",
        "if (num%2) == 0:\n",
        "   print(\"{0} is Even\".format(num))\n",
        "else:\n",
        "    print(\" is odd\".format(num))"
      ],
      "metadata": {
        "colab": {
          "base_uri": "https://localhost:8080/"
        },
        "id": "5JBsEsifpCmS",
        "outputId": "5e03daa7-015b-41de-98ee-a5f2deb746da"
      },
      "execution_count": null,
      "outputs": [
        {
          "output_type": "stream",
          "name": "stdout",
          "text": [
            "Enter your number: 5\n",
            " is odd\n"
          ]
        }
      ]
    },
    {
      "cell_type": "code",
      "source": [
        "#Task 3--\n",
        "d1 = {'s.no':[1,2,3],'Name':['praveen','jayanth','ravi'],'Rollno':[7,3,5]}\n",
        "d1\n",
        "{'S.no':[1,2,3],\n",
        " 'Name': ['praveen','jayanth','ravi'],\n",
        " 'Rollno': [7,3,5]}\n"
      ],
      "metadata": {
        "colab": {
          "base_uri": "https://localhost:8080/"
        },
        "id": "zM1yDZdJrS86",
        "outputId": "725b466a-5776-4e0a-c2dc-c20da189f425"
      },
      "execution_count": null,
      "outputs": [
        {
          "output_type": "execute_result",
          "data": {
            "text/plain": [
              "{'S.no': [1, 2, 3],\n",
              " 'Name': ['praveen', 'jayanth', 'ravi'],\n",
              " 'Rollno': [7, 3, 5]}"
            ]
          },
          "metadata": {},
          "execution_count": 6
        }
      ]
    },
    {
      "cell_type": "code",
      "source": [
        "#Task 4--\n",
        "def find_odd_number(start, end):\n",
        "  for num in range(start, end +1):\n",
        "    if num % 2 != 0:\n",
        "      print(num)\n",
        "\n",
        "find_odd_number(1,10)"
      ],
      "metadata": {
        "colab": {
          "base_uri": "https://localhost:8080/"
        },
        "id": "p_x602oDBzZl",
        "outputId": "84645534-02ec-4180-e228-9b8721b1b17e"
      },
      "execution_count": null,
      "outputs": [
        {
          "output_type": "stream",
          "name": "stdout",
          "text": [
            "1\n",
            "3\n",
            "5\n",
            "7\n",
            "9\n"
          ]
        }
      ]
    },
    {
      "cell_type": "code",
      "source": [
        "#Task 5--\n",
        "def sum(numbers):\n",
        "      total = 0\n",
        "      for x in numbers:\n",
        "          total += x\n",
        "      return total\n",
        "print(sum((8,2,3,0,7)))"
      ],
      "metadata": {
        "colab": {
          "base_uri": "https://localhost:8080/"
        },
        "id": "5Ise1RXeC2Gy",
        "outputId": "ca459277-46d4-4fe5-b733-ec233c17d5ba"
      },
      "execution_count": null,
      "outputs": [
        {
          "output_type": "stream",
          "name": "stdout",
          "text": [
            "20\n"
          ]
        }
      ]
    }
  ]
}